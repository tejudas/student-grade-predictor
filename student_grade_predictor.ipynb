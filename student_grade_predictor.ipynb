{
  "nbformat": 4,
  "nbformat_minor": 0,
  "metadata": {
    "colab": {
      "provenance": []
    },
    "kernelspec": {
      "name": "python3",
      "display_name": "Python 3"
    },
    "language_info": {
      "name": "python"
    }
  },
  "cells": [
    {
      "cell_type": "code",
      "execution_count": null,
      "metadata": {
        "id": "yUR-EaDFHvAC"
      },
      "outputs": [],
      "source": [
        "# Student Grade Predictor using Linear Regression\n",
        "\n",
        "import pandas as pd\n",
        "from sklearn.linear_model import LinearRegression\n",
        "import matplotlib.pyplot as plt\n",
        "\n",
        "# Sample data: Study hours vs Grades\n",
        "data = {\n",
        "    'Hours_Studied': [1, 2, 3, 4, 5, 6, 7],\n",
        "    'Grade': [50, 55, 60, 65, 70, 75, 80]\n",
        "}\n",
        "df = pd.DataFrame(data)\n",
        "\n",
        "# Split features and target\n",
        "X = df[['Hours_Studied']]\n",
        "y = df['Grade']\n",
        "\n",
        "# Train the model\n",
        "model = LinearRegression()\n",
        "model.fit(X, y)\n",
        "\n",
        "# Predict\n",
        "predicted = model.predict([[8]])\n",
        "print(f\"Predicted grade for 8 hours studied: {predicted[0]:.2f}\")\n",
        "\n",
        "# Plot\n",
        "plt.scatter(df['Hours_Studied'], df['Grade'], color='blue')\n",
        "plt.plot(df['Hours_Studied'], model.predict(X), color='red')\n",
        "plt.xlabel(\"Hours Studied\")\n",
        "plt.ylabel(\"Grade\")\n",
        "plt.title(\"Grade Prediction\")\n",
        "plt.show()\n"
      ]
    }
  ]
}